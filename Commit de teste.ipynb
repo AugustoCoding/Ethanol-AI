{
 "cells": [
  {
   "cell_type": "code",
   "execution_count": 2,
   "id": "b2948bea",
   "metadata": {},
   "outputs": [],
   "source": [
    "# Hello"
   ]
  },
  {
   "cell_type": "code",
   "execution_count": 3,
   "id": "9e90b64e",
   "metadata": {},
   "outputs": [],
   "source": [
    "# Mais um hello"
   ]
  }
 ],
 "metadata": {
  "language_info": {
   "name": "python"
  }
 },
 "nbformat": 4,
 "nbformat_minor": 5
}
