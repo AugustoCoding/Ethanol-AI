{
 "cells": [
  {
   "cell_type": "code",
   "execution_count": 1,
   "id": "2d8ff747",
   "metadata": {},
   "outputs": [],
   "source": [
    "# Parâmetros do modelo\n",
    "params = {\n",
    "    'alpha': 1,\n",
    "    'Emax': 8.32,\n",
    "    'Kad': 7.16,\n",
    "    'k1r': 0.177,\n",
    "    'k2r': 8.81,\n",
    "    'k3r': 201.0,\n",
    "    'k4r': 16.34,\n",
    "    'K1iG2': 0.402,\n",
    "    'K1iG': 2.71,\n",
    "    'K1iX': 2.15,\n",
    "    'K2iG2': 119.6,\n",
    "    'K2iG': 4.69,\n",
    "    'K2iX': 0.095,\n",
    "    'K3M': 26.6,\n",
    "    'K3iG': 11.06,\n",
    "    'K3iX': 1.023,\n",
    "    'K4iG2': 16.25,\n",
    "    'K4iG': 4.0,\n",
    "    'K4iX': 154.0\n",
    "}"
   ]
  },
  {
   "cell_type": "code",
   "execution_count": 2,
   "id": "364ac5d4",
   "metadata": {},
   "outputs": [],
   "source": [
    "# Composição da biomassa e condições iniciais\n",
    "biomass_composition = {\n",
    "    'cellulose': 0.66,\n",
    "    'hemicellulose': 0.083,\n",
    "    'lignin': 0.257\n",
    "}\n",
    "solids_loading_g_L = 150  # g/L\n",
    "C0 = solids_loading_g_L * biomass_composition['cellulose']\n",
    "H0 = solids_loading_g_L * biomass_composition['hemicellulose']\n",
    "L0 = solids_loading_g_L * biomass_composition['lignin']\n",
    "S0 = C0 + H0 + L0\n",
    "Ef0 = 0.1756  # g/L\n",
    "Eb0 = 0      # g/L"
   ]
  },
  {
   "cell_type": "code",
   "execution_count": null,
   "id": "d4830bd6",
   "metadata": {},
   "outputs": [
    {
     "ename": "",
     "evalue": "",
     "output_type": "error",
     "traceback": [
      "\u001b[1;31mThe Kernel crashed while executing code in the current cell or a previous cell. \n",
      "\u001b[1;31mPlease review the code in the cell(s) to identify a possible cause of the failure. \n",
      "\u001b[1;31mClick <a href='https://aka.ms/vscodeJupyterKernelCrash'>here</a> for more info. \n",
      "\u001b[1;31mView Jupyter <a href='command:jupyter.viewOutput'>log</a> for further details."
     ]
    }
   ],
   "source": [
    "def Eb(S, Emax, Ef, Kad):\n",
    "    return S*Emax*Ef/(1+Kad*Ef)\n",
    "\n",
    "def Ebc(Eb, C, S):\n",
    "    return Eb * C / S if S > 0 else 0\n",
    "\n",
    "def Ebh(Eb, H, S):\n",
    "    return Eb * H / S if S > 0 else 0\n",
    "\n",
    "def Rs(alpha, S, S0):\n",
    "    return alpha * S / S0\n",
    "\n",
    "def r1(k1r, Ebc, S, Rs, G2, G, X, K1iG, K1iG2, K1iX):\n",
    "    return k1r * Ebc * S * Rs / (1 + G2 / K1iG2 + G / K1iG + X / K1iX)\n",
    "\n",
    "def r2(k2r, Ebc, S, Rs, G2, G, X, K2iG, K2iG2, K2iX):\n",
    "    return k2r * Ebc * S * Rs / (1 + G2 / K2iG2 + G / K2iG + X / K2iX)\n",
    "\n",
    "def r3(k3r, Ef, G2, G, X, K3M, K3iG, K3iX):\n",
    "    return k3r * Ef * G2 / (((1 + G / K3iG + X / K3iX) * K3M) + G2)\n",
    "\n",
    "def r4(k4r, Ebh, Rs, S, G2, G, X, K4iG, K4iG2, K4iX):\n",
    "    return k4r * Ebh * Rs * S / (1 + G2 / K4iG2 + G / K4iG + X / K4iX)\n",
    "\n",
    "def dC_dt(r1_, r2_):\n",
    "    return -r1_ - r2_\n",
    "\n",
    "def dG2_dt(r1_, r3_):\n",
    "    return 1.056 * r1_ - r3_\n",
    "\n",
    "def dG_dt(r2_, r3_):\n",
    "    return 1.111 * r2_ + 1.053 * r3_\n",
    "\n",
    "def dH_dt(r4_):\n",
    "    return -r4_\n",
    "\n",
    "def dX_dt(r4_):\n",
    "    return 1.136 * r4_"
   ]
  }
 ],
 "metadata": {
  "kernelspec": {
   "display_name": "Python 3",
   "language": "python",
   "name": "python3"
  },
  "language_info": {
   "codemirror_mode": {
    "name": "ipython",
    "version": 3
   },
   "file_extension": ".py",
   "mimetype": "text/x-python",
   "name": "python",
   "nbconvert_exporter": "python",
   "pygments_lexer": "ipython3",
   "version": "3.11.9"
  }
 },
 "nbformat": 4,
 "nbformat_minor": 5
}
