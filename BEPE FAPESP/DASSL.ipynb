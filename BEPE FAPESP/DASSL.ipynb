{
 "cells": [
  {
   "cell_type": "code",
   "execution_count": 2,
   "id": "a215c3e4",
   "metadata": {},
   "outputs": [
    {
     "ename": "ModuleNotFoundError",
     "evalue": "No module named 'assimulo'",
     "output_type": "error",
     "traceback": [
      "\u001b[1;31m---------------------------------------------------------------------------\u001b[0m",
      "\u001b[1;31mModuleNotFoundError\u001b[0m                       Traceback (most recent call last)",
      "Cell \u001b[1;32mIn[2], line 2\u001b[0m\n\u001b[0;32m      1\u001b[0m \u001b[38;5;28;01mimport\u001b[39;00m\u001b[38;5;250m \u001b[39m\u001b[38;5;21;01mnumpy\u001b[39;00m\u001b[38;5;250m \u001b[39m\u001b[38;5;28;01mas\u001b[39;00m\u001b[38;5;250m \u001b[39m\u001b[38;5;21;01mnp\u001b[39;00m\n\u001b[1;32m----> 2\u001b[0m \u001b[38;5;28;01mfrom\u001b[39;00m\u001b[38;5;250m \u001b[39m\u001b[38;5;21;01massimulo\u001b[39;00m\u001b[38;5;21;01m.\u001b[39;00m\u001b[38;5;21;01mproblem\u001b[39;00m\u001b[38;5;250m \u001b[39m\u001b[38;5;28;01mimport\u001b[39;00m Implicit_Problem\n\u001b[0;32m      3\u001b[0m \u001b[38;5;28;01mfrom\u001b[39;00m\u001b[38;5;250m \u001b[39m\u001b[38;5;21;01massimulo\u001b[39;00m\u001b[38;5;21;01m.\u001b[39;00m\u001b[38;5;21;01msolvers\u001b[39;00m\u001b[38;5;250m \u001b[39m\u001b[38;5;28;01mimport\u001b[39;00m DASSL\n\u001b[0;32m      4\u001b[0m \u001b[38;5;28;01mimport\u001b[39;00m\u001b[38;5;250m \u001b[39m\u001b[38;5;21;01mmatplotlib\u001b[39;00m\u001b[38;5;21;01m.\u001b[39;00m\u001b[38;5;21;01mpyplot\u001b[39;00m\u001b[38;5;250m \u001b[39m\u001b[38;5;28;01mas\u001b[39;00m\u001b[38;5;250m \u001b[39m\u001b[38;5;21;01mplt\u001b[39;00m\n",
      "\u001b[1;31mModuleNotFoundError\u001b[0m: No module named 'assimulo'"
     ]
    }
   ],
   "source": [
    "import numpy as np\n",
    "from assimulo.problem import Implicit_Problem\n",
    "from assimulo.solvers import DASSL\n",
    "import matplotlib.pyplot as plt\n",
    "\n",
    "# 1. Definir a função residual para a EDA na forma F(t, y, y') = 0\n",
    "# Nosso sistema:\n",
    "# y_0' = y_1\n",
    "# y_0^2 + y_1^2 = 1 (restrição algébrica)\n",
    "def residual_function(t, y, y_prime):\n",
    "    res = np.zeros(2)\n",
    "    res[0] = y_prime[0] - y[1]  # Equação Diferencial\n",
    "    res[1] = y[0]**2 + y[1]**2 - 1.0  # Equação Algébrica\n",
    "    return res\n",
    "\n",
    "# 2. Definir as condições iniciais consistentes\n",
    "# As condições iniciais devem satisfazer as equações\n",
    "t0 = 0.0\n",
    "y0 = np.array([1.0, 0.0])      # y0 no ponto (1, 0) do círculo\n",
    "y_prime0 = np.array([0.0, -1.0]) # y_prime0 consistente com y0 e as equações\n",
    "\n",
    "# 3. Criar o problema implícito\n",
    "problem = Implicit_Problem(residual_function, y0, y_prime0, t0)\n",
    "problem.name = 'Pêndulo Simples em Coordenadas Cartesianas'\n",
    "\n",
    "# 4. Criar uma instância do solver DASSL\n",
    "solver = DASSL(problem)\n",
    "\n",
    "# 5. Definir os parâmetros da simulação e rodar\n",
    "t_final = 2.0 * np.pi  # Uma volta completa\n",
    "n_pontos = 100\n",
    "t, y = solver.simulate(t_final, n_pontos)\n",
    "\n",
    "# 6. Plotar os resultados\n",
    "plt.figure(figsize=(6, 6))\n",
    "plt.plot(y[:, 0], y[:, 1])\n",
    "plt.title(\"Trajetória resolvida com DASSL em Python\")\n",
    "plt.xlabel(\"y[0]\")\n",
    "plt.ylabel(\"y[1]\")\n",
    "plt.grid(True)\n",
    "plt.axis('equal')\n",
    "plt.show()"
   ]
  }
 ],
 "metadata": {
  "kernelspec": {
   "display_name": "Python 3",
   "language": "python",
   "name": "python3"
  },
  "language_info": {
   "codemirror_mode": {
    "name": "ipython",
    "version": 3
   },
   "file_extension": ".py",
   "mimetype": "text/x-python",
   "name": "python",
   "nbconvert_exporter": "python",
   "pygments_lexer": "ipython3",
   "version": "3.11.9"
  }
 },
 "nbformat": 4,
 "nbformat_minor": 5
}
