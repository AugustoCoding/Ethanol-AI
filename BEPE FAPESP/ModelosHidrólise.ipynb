{
 "cells": [
  {
   "cell_type": "markdown",
   "id": "9d3991de",
   "metadata": {},
   "source": [
    "# Modelos mecanicistas para a hidrólise enzimática"
   ]
  },
  {
   "cell_type": "markdown",
   "id": "067328b6",
   "metadata": {},
   "source": [
    "As equações a seguir representam subreações da etapa de hidrólise enzimática de matéria prima lignocelulósica."
   ]
  },
  {
   "cell_type": "markdown",
   "id": "529559a6",
   "metadata": {},
   "source": [
    "## Variáveis"
   ]
  },
  {
   "cell_type": "code",
   "execution_count": 20,
   "id": "0c1212f6",
   "metadata": {},
   "outputs": [],
   "source": [
    "# Ef = 1\n",
    "# Eb = 1\n",
    "# S = 1\n",
    "# S0 = 1 \n",
    "# C = 1\n",
    "# L = 1\n",
    "# H = 1\n",
    "# G = 1\n",
    "# G2 = 1\n",
    "# X = 1"
   ]
  },
  {
   "cell_type": "markdown",
   "id": "36ddc044",
   "metadata": {},
   "source": [
    "## Parâmetros ajustados"
   ]
  },
  {
   "cell_type": "code",
   "execution_count": 21,
   "id": "2070a1b7",
   "metadata": {},
   "outputs": [],
   "source": [
    "Emax = 8.32\n",
    "Kad = 7.16\n",
    "alpha = 1\n",
    "k1r = 0.177\n",
    "k2r = 8.81\n",
    "k3r = 201.0\n",
    "k4r = 16.34\n",
    "K1iG = 0.402\n",
    "K1iG2 = 2.71\n",
    "K1iX = 2.15\n",
    "K2iG = 119.6\n",
    "K2iG2 = 4.69\n",
    "K2iX = 0.095\n",
    "K3M = 26.6\n",
    "K3iG = 11.06\n",
    "K3iX = 1.023\n",
    "K4iG = 16.25\n",
    "K4iG2 = 4.0\n",
    "K4iX = 154.0"
   ]
  },
  {
   "cell_type": "markdown",
   "id": "dc15aa10",
   "metadata": {},
   "source": [
    "## Equações"
   ]
  },
  {
   "cell_type": "markdown",
   "id": "22cc1338",
   "metadata": {},
   "source": [
    "### Definições"
   ]
  },
  {
   "cell_type": "code",
   "execution_count": 22,
   "id": "e84384cc",
   "metadata": {},
   "outputs": [],
   "source": [
    "#Langmuir-type isotherm 1\n",
    "\n",
    "def Ebs1(Eb , S):\n",
    "\n",
    "    Ebs1 = Eb/S\n",
    "\n",
    "    return Ebs1"
   ]
  },
  {
   "cell_type": "code",
   "execution_count": 24,
   "id": "f7ee97cd",
   "metadata": {},
   "outputs": [],
   "source": [
    "# Langmuir-type isotherm 2\n",
    "\n",
    "def Ebs2(Emax, Kad, Ef):\n",
    "\n",
    "    Ebs2 = Emax*Kad*Ef/(1+Kad*Ef)\n",
    "\n",
    "    return Ebs2"
   ]
  },
  {
   "cell_type": "code",
   "execution_count": 26,
   "id": "4cd1917e",
   "metadata": {},
   "outputs": [],
   "source": [
    "# Enzyme adsorbed on cellulose\n",
    "\n",
    "def Ebc(Eb, C, S):\n",
    "\n",
    "    Ebc = Eb*C/S\n",
    "\n",
    "    return Ebc"
   ]
  },
  {
   "cell_type": "code",
   "execution_count": 27,
   "id": "4b8e5bc5",
   "metadata": {},
   "outputs": [],
   "source": [
    "# Enzyme adsorbed on hemicellulose\n",
    "def Ebh(Eb, H, S):\n",
    "\n",
    "    Ebh = Eb*H/S\n",
    "\n",
    "    return Ebh"
   ]
  },
  {
   "cell_type": "code",
   "execution_count": 28,
   "id": "8cc902cc",
   "metadata": {},
   "outputs": [],
   "source": [
    "# Substrate reactivity\n",
    "\n",
    "def Rs(alpha, S, S0):\n",
    "\n",
    "    Rs = alpha*S/S0\n",
    "\n",
    "    return Rs"
   ]
  },
  {
   "cell_type": "markdown",
   "id": "4a33235d",
   "metadata": {},
   "source": [
    "### Taxas de reação"
   ]
  },
  {
   "cell_type": "code",
   "execution_count": 29,
   "id": "d0bac143",
   "metadata": {},
   "outputs": [],
   "source": [
    "# Reaction 1: Cellulose to cellobiose\n",
    "\n",
    "def r1(k1r, Ebc, S, Rs, G2, G, X, K1iG, K1iG2, K1iX):\n",
    "\n",
    "    r1 = k1r*Ebc*S*Rs/(1+ G2/K1iG2 + G/K1iG + X/K1iX)\n",
    "    return r1"
   ]
  },
  {
   "cell_type": "code",
   "execution_count": null,
   "id": "84b6a805",
   "metadata": {},
   "outputs": [],
   "source": [
    "# Reaction 2: Cellulose to glucose\n",
    "def r2(k2r, Ebc, S, Rs, G2, G, X, K2iG, K2iG2, K2iX):\n",
    "\n",
    "    r2 = k2r*Ebc*S*Rs/(1+ G2/K2iG2 + G/K2iG + X/K2iX)\n",
    "    return r2"
   ]
  },
  {
   "cell_type": "code",
   "execution_count": 31,
   "id": "8959ff73",
   "metadata": {},
   "outputs": [],
   "source": [
    "# Reaction 3: Cellobiose to glucose\n",
    "def r3(k3r, Ef, G2, G, X, K3M, K3iG, K3iX):\n",
    "\n",
    "    r3 = k3r*Ef*G2/(((1 + G/K3iG + X/K3iX)*K3M)+G2)\n",
    "\n",
    "    return r3"
   ]
  },
  {
   "cell_type": "code",
   "execution_count": 32,
   "id": "dcaa7aa6",
   "metadata": {},
   "outputs": [],
   "source": [
    "# Reaction 4: Hemicellulose to Xilose\n",
    "def r4(k4r, Ebh, Rs, S, G2, G, X, K4iG, K4iG2, K4iX):\n",
    "\n",
    "    r4 = k4r*Ebh*Rs*S/(1 + G2/K4iG2 + G/K4iG + X/K4iX)\n",
    "\n",
    "    return r4"
   ]
  },
  {
   "cell_type": "markdown",
   "id": "df4fd67a",
   "metadata": {},
   "source": [
    "### Balanços de massa"
   ]
  },
  {
   "cell_type": "code",
   "execution_count": 33,
   "id": "e186c99e",
   "metadata": {},
   "outputs": [],
   "source": [
    "# Total Enzyme\n",
    "def Et(Eb, Ef):\n",
    "    Et = Eb + Ef\n",
    "    return Et"
   ]
  },
  {
   "cell_type": "code",
   "execution_count": 34,
   "id": "ea2f1722",
   "metadata": {},
   "outputs": [],
   "source": [
    "# Total Solids\n",
    "\n",
    "def S(C, H, L):\n",
    "    S = C + H + L\n",
    "    return S"
   ]
  },
  {
   "cell_type": "markdown",
   "id": "09a22fa0",
   "metadata": {},
   "source": [
    "### Taxa de variação de componentes"
   ]
  },
  {
   "cell_type": "code",
   "execution_count": 35,
   "id": "1252632d",
   "metadata": {},
   "outputs": [],
   "source": [
    "# Cellulose balance\n",
    "\n",
    "def dC_dt(r1, r2):\n",
    "\n",
    "    dC_dt = -r1 - r2\n",
    "    return dC_dt"
   ]
  },
  {
   "cell_type": "code",
   "execution_count": 36,
   "id": "273b3c42",
   "metadata": {},
   "outputs": [],
   "source": [
    "# Cellobiose balance\n",
    "\n",
    "def dG2_dt(r1, r3):\n",
    "    dG2_dt = 1.056*r1 - r3\n",
    "    return dG2_dt"
   ]
  },
  {
   "cell_type": "code",
   "execution_count": 37,
   "id": "c0c68ca5",
   "metadata": {},
   "outputs": [],
   "source": [
    "# Glucose balance\n",
    "def dG_dt(r2, r3):\n",
    "    dG_dt = 1.111*r2 + 1.053*r3\n",
    "    return dG_dt"
   ]
  },
  {
   "cell_type": "code",
   "execution_count": 38,
   "id": "768f6c67",
   "metadata": {},
   "outputs": [],
   "source": [
    "# Hemicellulose balance\n",
    "\n",
    "def dH_dt(r4):\n",
    "    dH_dt = -r4\n",
    "    return dH_dt"
   ]
  },
  {
   "cell_type": "code",
   "execution_count": 39,
   "id": "94b1ff38",
   "metadata": {},
   "outputs": [],
   "source": [
    "# Xylose balance\n",
    "def dX_dt(r4):\n",
    "    dX_dt = 1.136*r4\n",
    "    return dX_dt"
   ]
  }
 ],
 "metadata": {
  "kernelspec": {
   "display_name": "Python 3",
   "language": "python",
   "name": "python3"
  },
  "language_info": {
   "codemirror_mode": {
    "name": "ipython",
    "version": 3
   },
   "file_extension": ".py",
   "mimetype": "text/x-python",
   "name": "python",
   "nbconvert_exporter": "python",
   "pygments_lexer": "ipython3",
   "version": "3.11.9"
  }
 },
 "nbformat": 4,
 "nbformat_minor": 5
}
