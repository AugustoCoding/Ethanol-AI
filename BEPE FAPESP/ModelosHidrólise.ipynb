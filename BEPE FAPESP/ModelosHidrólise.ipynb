{
 "cells": [
  {
   "cell_type": "markdown",
   "id": "9d3991de",
   "metadata": {},
   "source": [
    "# Modelos mecanicistas para a hidrólise enzimática"
   ]
  },
  {
   "cell_type": "markdown",
   "id": "067328b6",
   "metadata": {},
   "source": [
    "As equações a seguir representam subreações da etapa de hidrólise enzimática de matéria prima lignocelulósica."
   ]
  },
  {
   "cell_type": "markdown",
   "id": "529559a6",
   "metadata": {},
   "source": [
    "## Variáveis"
   ]
  },
  {
   "cell_type": "code",
   "execution_count": 40,
   "id": "0c1212f6",
   "metadata": {},
   "outputs": [],
   "source": [
    "# Ef = 1\n",
    "# Eb = 1\n",
    "# S = 1\n",
    "# S0 = 1 \n",
    "# C = 1\n",
    "# L = 1\n",
    "# H = 1\n",
    "# G = 1\n",
    "# G2 = 1\n",
    "# X = 1"
   ]
  },
  {
   "cell_type": "markdown",
   "id": "36ddc044",
   "metadata": {},
   "source": [
    "## Parâmetros ajustados"
   ]
  },
  {
   "cell_type": "code",
   "execution_count": 41,
   "id": "2070a1b7",
   "metadata": {},
   "outputs": [],
   "source": [
    "Emax = 8.32\n",
    "Kad = 7.16\n",
    "alpha = 1\n",
    "k1r = 0.177\n",
    "k2r = 8.81\n",
    "k3r = 201.0\n",
    "k4r = 16.34\n",
    "K1iG = 0.402\n",
    "K1iG2 = 2.71\n",
    "K1iX = 2.15\n",
    "K2iG = 119.6\n",
    "K2iG2 = 4.69\n",
    "K2iX = 0.095\n",
    "K3M = 26.6\n",
    "K3iG = 11.06\n",
    "K3iX = 1.023\n",
    "K4iG = 16.25\n",
    "K4iG2 = 4.0\n",
    "K4iX = 154.0"
   ]
  },
  {
   "cell_type": "markdown",
   "id": "dc15aa10",
   "metadata": {},
   "source": [
    "## Equações"
   ]
  },
  {
   "cell_type": "markdown",
   "id": "22cc1338",
   "metadata": {},
   "source": [
    "### Definições"
   ]
  },
  {
   "cell_type": "code",
   "execution_count": 42,
   "id": "e84384cc",
   "metadata": {},
   "outputs": [],
   "source": [
    "#Langmuir-type isotherm 1\n",
    "\n",
    "def Ebs1(Eb , S):\n",
    "\n",
    "    Ebs1 = Eb/S\n",
    "\n",
    "    return Ebs1"
   ]
  },
  {
   "cell_type": "code",
   "execution_count": 43,
   "id": "f7ee97cd",
   "metadata": {},
   "outputs": [],
   "source": [
    "# Langmuir-type isotherm 2\n",
    "\n",
    "def Ebs2(Emax, Kad, Ef):\n",
    "\n",
    "    Ebs2 = Emax*Kad*Ef/(1+Kad*Ef)\n",
    "\n",
    "    return Ebs2"
   ]
  },
  {
   "cell_type": "code",
   "execution_count": 44,
   "id": "4cd1917e",
   "metadata": {},
   "outputs": [],
   "source": [
    "# Enzyme adsorbed on cellulose\n",
    "\n",
    "def Ebc(Eb, C, S):\n",
    "\n",
    "    Ebc = Eb*C/S\n",
    "\n",
    "    return Ebc"
   ]
  },
  {
   "cell_type": "code",
   "execution_count": 45,
   "id": "4b8e5bc5",
   "metadata": {},
   "outputs": [],
   "source": [
    "# Enzyme adsorbed on hemicellulose\n",
    "def Ebh(Eb, H, S):\n",
    "\n",
    "    Ebh = Eb*H/S\n",
    "\n",
    "    return Ebh"
   ]
  },
  {
   "cell_type": "code",
   "execution_count": 46,
   "id": "8cc902cc",
   "metadata": {},
   "outputs": [],
   "source": [
    "# Substrate reactivity\n",
    "\n",
    "def Rs(alpha, S, S0):\n",
    "\n",
    "    Rs = alpha*S/S0\n",
    "\n",
    "    return Rs"
   ]
  },
  {
   "cell_type": "markdown",
   "id": "4a33235d",
   "metadata": {},
   "source": [
    "### Taxas de reação"
   ]
  },
  {
   "cell_type": "code",
   "execution_count": 47,
   "id": "d0bac143",
   "metadata": {},
   "outputs": [],
   "source": [
    "# Reaction 1: Cellulose to cellobiose\n",
    "\n",
    "def r1(k1r, Ebc, S, Rs, G2, G, X, K1iG, K1iG2, K1iX):\n",
    "\n",
    "    r1 = k1r*Ebc*S*Rs/(1+ G2/K1iG2 + G/K1iG + X/K1iX)\n",
    "    return r1"
   ]
  },
  {
   "cell_type": "code",
   "execution_count": 48,
   "id": "84b6a805",
   "metadata": {},
   "outputs": [],
   "source": [
    "# Reaction 2: Cellulose to glucose\n",
    "def r2(k2r, Ebc, S, Rs, G2, G, X, K2iG, K2iG2, K2iX):\n",
    "\n",
    "    r2 = k2r*Ebc*S*Rs/(1+ G2/K2iG2 + G/K2iG + X/K2iX)\n",
    "    return r2"
   ]
  },
  {
   "cell_type": "code",
   "execution_count": 49,
   "id": "8959ff73",
   "metadata": {},
   "outputs": [],
   "source": [
    "# Reaction 3: Cellobiose to glucose\n",
    "def r3(k3r, Ef, G2, G, X, K3M, K3iG, K3iX):\n",
    "\n",
    "    r3 = k3r*Ef*G2/(((1 + G/K3iG + X/K3iX)*K3M)+G2)\n",
    "\n",
    "    return r3"
   ]
  },
  {
   "cell_type": "code",
   "execution_count": 50,
   "id": "dcaa7aa6",
   "metadata": {},
   "outputs": [],
   "source": [
    "# Reaction 4: Hemicellulose to Xilose\n",
    "def r4(k4r, Ebh, Rs, S, G2, G, X, K4iG, K4iG2, K4iX):\n",
    "\n",
    "    r4 = k4r*Ebh*Rs*S/(1 + G2/K4iG2 + G/K4iG + X/K4iX)\n",
    "\n",
    "    return r4"
   ]
  },
  {
   "cell_type": "markdown",
   "id": "df4fd67a",
   "metadata": {},
   "source": [
    "### Balanços de massa"
   ]
  },
  {
   "cell_type": "code",
   "execution_count": 51,
   "id": "e186c99e",
   "metadata": {},
   "outputs": [],
   "source": [
    "# Total Enzyme\n",
    "def Et(Eb, Ef):\n",
    "    Et = Eb + Ef\n",
    "    return Et"
   ]
  },
  {
   "cell_type": "code",
   "execution_count": 52,
   "id": "ea2f1722",
   "metadata": {},
   "outputs": [],
   "source": [
    "# Total Solids\n",
    "\n",
    "def S(C, H, L):\n",
    "    S = C + H + L\n",
    "    return S"
   ]
  },
  {
   "cell_type": "markdown",
   "id": "09a22fa0",
   "metadata": {},
   "source": [
    "### Taxa de variação de componentes"
   ]
  },
  {
   "cell_type": "code",
   "execution_count": 53,
   "id": "1252632d",
   "metadata": {},
   "outputs": [],
   "source": [
    "# Cellulose balance\n",
    "\n",
    "def dC_dt(r1, r2):\n",
    "\n",
    "    dC_dt = -r1 - r2\n",
    "    return dC_dt"
   ]
  },
  {
   "cell_type": "code",
   "execution_count": 54,
   "id": "273b3c42",
   "metadata": {},
   "outputs": [],
   "source": [
    "# Cellobiose balance\n",
    "\n",
    "def dG2_dt(r1, r3):\n",
    "    dG2_dt = 1.056*r1 - r3\n",
    "    return dG2_dt"
   ]
  },
  {
   "cell_type": "code",
   "execution_count": 55,
   "id": "c0c68ca5",
   "metadata": {},
   "outputs": [],
   "source": [
    "# Glucose balance\n",
    "def dG_dt(r2, r3):\n",
    "    dG_dt = 1.111*r2 + 1.053*r3\n",
    "    return dG_dt"
   ]
  },
  {
   "cell_type": "code",
   "execution_count": 56,
   "id": "768f6c67",
   "metadata": {},
   "outputs": [],
   "source": [
    "# Hemicellulose balance\n",
    "\n",
    "def dH_dt(r4):\n",
    "    dH_dt = -r4\n",
    "    return dH_dt"
   ]
  },
  {
   "cell_type": "code",
   "execution_count": 57,
   "id": "94b1ff38",
   "metadata": {},
   "outputs": [],
   "source": [
    "# Xylose balance\n",
    "def dX_dt(r4):\n",
    "    dX_dt = 1.136*r4\n",
    "    return dX_dt"
   ]
  },
  {
   "cell_type": "code",
   "execution_count": 58,
   "id": "ef75d066",
   "metadata": {},
   "outputs": [
    {
     "data": {
      "image/png": "[encoded data removed]",
      "text/plain": [
       "<Figure size 1000x600 with 1 Axes>"
      ]
     },
     "metadata": {},
     "output_type": "display_data"
    }
   ],
   "source": [
    "import numpy as np\n",
    "from scipy.integrate import solve_ivp\n",
    "\n",
    "# Função que define o sistema de equações diferenciais\n",
    "def hydrolysis_ode(t, y, params):\n",
    "    C, G2, G, H, X = y  # Variáveis do sistema\n",
    "    Eb, Ef, S0, alpha, Emax, Kad, k1r, k2r, k3r, k4r, K1iG, K1iG2, K1iX, K2iG, K2iG2, K2iX, K3M, K3iG, K3iX, K4iG, K4iG2, K4iX = params\n",
    "    \n",
    "    # Calculando variáveis auxiliares\n",
    "    S = C + H  # Total solids\n",
    "    Rs = alpha * S / S0  # Substrate reactivity\n",
    "    Ebc = Eb * C / S  # Enzyme adsorbed on cellulose\n",
    "    Ebh = Eb * H / S  # Enzyme adsorbed on hemicellulose\n",
    "    \n",
    "    # Taxas de reação\n",
    "    r1 = k1r * Ebc * S * Rs / (1 + G2 / K1iG2 + G / K1iG + X / K1iX)\n",
    "    r2 = k2r * Ebc * S * Rs / (1 + G2 / K2iG2 + G / K2iG + X / K2iX)\n",
    "    r3 = k3r * Ef * G2 / (((1 + G / K3iG + X / K3iX) * K3M) + G2)\n",
    "    r4 = k4r * Ebh * Rs * S / (1 + G2 / K4iG2 + G / K4iG + X / K4iX)\n",
    "    \n",
    "    # Equações diferenciais\n",
    "    dC_dt = -r1 - r2\n",
    "    dG2_dt = 1.056 * r1 - r3\n",
    "    dG_dt = 1.111 * r2 + 1.053 * r3\n",
    "    dH_dt = -r4\n",
    "    dX_dt = 1.136 * r4\n",
    "    \n",
    "    return [dC_dt, dG2_dt, dG_dt, dH_dt, dX_dt]\n",
    "\n",
    "# Parâmetros do modelo\n",
    "params = [\n",
    "    1,  # Eb\n",
    "    1,  # Ef\n",
    "    1,  # S0\n",
    "    1,  # alpha\n",
    "    8.32,  # Emax\n",
    "    7.16,  # Kad\n",
    "    0.177,  # k1r\n",
    "    8.81,  # k2r\n",
    "    201.0,  # k3r\n",
    "    16.34,  # k4r\n",
    "    0.402,  # K1iG\n",
    "    2.71,  # K1iG2\n",
    "    2.15,  # K1iX\n",
    "    119.6,  # K2iG\n",
    "    4.69,  # K2iG2\n",
    "    0.095,  # K2iX\n",
    "    26.6,  # K3M\n",
    "    11.06,  # K3iG\n",
    "    1.023,  # K3iX\n",
    "    16.25,  # K4iG\n",
    "    4.0,  # K4iG2\n",
    "    154.0  # K4iX\n",
    "]\n",
    "\n",
    "# Condições iniciais\n",
    "y0 = [1, 0, 0, 1, 0]  # [C, G2, G, H, X]\n",
    "\n",
    "# Intervalo de tempo para a simulação\n",
    "t_span = (0, 10)  # De 0 a 10 unidades de tempo\n",
    "t_eval = np.linspace(t_span[0], t_span[1], 100)  # Pontos de avaliação\n",
    "\n",
    "# Resolvendo o sistema de equações diferenciais\n",
    "solution = solve_ivp(hydrolysis_ode, t_span, y0, args=(params,), t_eval=t_eval)\n",
    "\n",
    "# Plotando os resultados\n",
    "import matplotlib.pyplot as plt\n",
    "\n",
    "plt.figure(figsize=(10, 6))\n",
    "plt.plot(solution.t, solution.y[0], label=\"C (Cellulose)\")\n",
    "plt.plot(solution.t, solution.y[1], label=\"G2 (Cellobiose)\")\n",
    "plt.plot(solution.t, solution.y[2], label=\"G (Glucose)\")\n",
    "plt.plot(solution.t, solution.y[3], label=\"H (Hemicellulose)\")\n",
    "plt.plot(solution.t, solution.y[4], label=\"X (Xylose)\")\n",
    "plt.xlabel(\"Time\")\n",
    "plt.ylabel(\"Concentration\")\n",
    "plt.legend()\n",
    "plt.title(\"Simulation of Enzymatic Hydrolysis\")\n",
    "plt.grid()\n",
    "plt.show()"
   ]
  },
  {
   "cell_type": "code",
   "execution_count": 60,
   "id": "893ba55c",
   "metadata": {},
   "outputs": [
    {
     "data": {
      "text/html": [
       "<div>\n",
       "<style scoped>\n",
       "    .dataframe tbody tr th:only-of-type {\n",
       "        vertical-align: middle;\n",
       "    }\n",
       "\n",
       "    .dataframe tbody tr th {\n",
       "        vertical-align: top;\n",
       "    }\n",
       "\n",
       "    .dataframe thead th {\n",
       "        text-align: right;\n",
       "    }\n",
       "</style>\n",
       "<table border=\"1\" class=\"dataframe\">\n",
       "  <thead>\n",
       "    <tr style=\"text-align: right;\">\n",
       "      <th></th>\n",
       "      <th>Time</th>\n",
       "      <th>Cellulose (C)</th>\n",
       "      <th>Cellobiose (G2)</th>\n",
       "      <th>Glucose (G)</th>\n",
       "      <th>Hemicellulose (H)</th>\n",
       "      <th>Xylose (X)</th>\n",
       "    </tr>\n",
       "  </thead>\n",
       "  <tbody>\n",
       "    <tr>\n",
       "      <th>0</th>\n",
       "      <td>0.00000</td>\n",
       "      <td>1.000000</td>\n",
       "      <td>0.000000</td>\n",
       "      <td>0.000000</td>\n",
       "      <td>1.000000e+00</td>\n",
       "      <td>0.000000</td>\n",
       "    </tr>\n",
       "    <tr>\n",
       "      <th>1</th>\n",
       "      <td>0.10101</td>\n",
       "      <td>0.817461</td>\n",
       "      <td>0.010183</td>\n",
       "      <td>0.192091</td>\n",
       "      <td>1.314241e-01</td>\n",
       "      <td>0.986702</td>\n",
       "    </tr>\n",
       "    <tr>\n",
       "      <th>2</th>\n",
       "      <td>0.20202</td>\n",
       "      <td>0.761772</td>\n",
       "      <td>0.012190</td>\n",
       "      <td>0.251853</td>\n",
       "      <td>3.307577e-02</td>\n",
       "      <td>1.098426</td>\n",
       "    </tr>\n",
       "    <tr>\n",
       "      <th>3</th>\n",
       "      <td>0.30303</td>\n",
       "      <td>0.718039</td>\n",
       "      <td>0.012497</td>\n",
       "      <td>0.300122</td>\n",
       "      <td>9.792608e-03</td>\n",
       "      <td>1.124876</td>\n",
       "    </tr>\n",
       "    <tr>\n",
       "      <th>4</th>\n",
       "      <td>0.40404</td>\n",
       "      <td>0.680266</td>\n",
       "      <td>0.012080</td>\n",
       "      <td>0.342531</td>\n",
       "      <td>3.172801e-03</td>\n",
       "      <td>1.132396</td>\n",
       "    </tr>\n",
       "    <tr>\n",
       "      <th>...</th>\n",
       "      <td>...</td>\n",
       "      <td>...</td>\n",
       "      <td>...</td>\n",
       "      <td>...</td>\n",
       "      <td>...</td>\n",
       "      <td>...</td>\n",
       "    </tr>\n",
       "    <tr>\n",
       "      <th>95</th>\n",
       "      <td>9.59596</td>\n",
       "      <td>0.122304</td>\n",
       "      <td>0.000220</td>\n",
       "      <td>0.974956</td>\n",
       "      <td>2.787381e-14</td>\n",
       "      <td>1.136000</td>\n",
       "    </tr>\n",
       "    <tr>\n",
       "      <th>96</th>\n",
       "      <td>9.69697</td>\n",
       "      <td>0.121220</td>\n",
       "      <td>0.000215</td>\n",
       "      <td>0.976166</td>\n",
       "      <td>2.312024e-14</td>\n",
       "      <td>1.136000</td>\n",
       "    </tr>\n",
       "    <tr>\n",
       "      <th>97</th>\n",
       "      <td>9.79798</td>\n",
       "      <td>0.120154</td>\n",
       "      <td>0.000211</td>\n",
       "      <td>0.977354</td>\n",
       "      <td>1.918334e-14</td>\n",
       "      <td>1.136000</td>\n",
       "    </tr>\n",
       "    <tr>\n",
       "      <th>98</th>\n",
       "      <td>9.89899</td>\n",
       "      <td>0.119108</td>\n",
       "      <td>0.000206</td>\n",
       "      <td>0.978522</td>\n",
       "      <td>1.594614e-14</td>\n",
       "      <td>1.136000</td>\n",
       "    </tr>\n",
       "    <tr>\n",
       "      <th>99</th>\n",
       "      <td>10.00000</td>\n",
       "      <td>0.118079</td>\n",
       "      <td>0.000202</td>\n",
       "      <td>0.979669</td>\n",
       "      <td>1.327688e-14</td>\n",
       "      <td>1.136000</td>\n",
       "    </tr>\n",
       "  </tbody>\n",
       "</table>\n",
       "<p>100 rows × 6 columns</p>\n",
       "</div>"
      ],
      "text/plain": [
       "        Time  Cellulose (C)  Cellobiose (G2)  Glucose (G)  Hemicellulose (H)  \\\n",
       "0    0.00000       1.000000         0.000000     0.000000       1.000000e+00   \n",
       "1    0.10101       0.817461         0.010183     0.192091       1.314241e-01   \n",
       "2    0.20202       0.761772         0.012190     0.251853       3.307577e-02   \n",
       "3    0.30303       0.718039         0.012497     0.300122       9.792608e-03   \n",
       "4    0.40404       0.680266         0.012080     0.342531       3.172801e-03   \n",
       "..       ...            ...              ...          ...                ...   \n",
       "95   9.59596       0.122304         0.000220     0.974956       2.787381e-14   \n",
       "96   9.69697       0.121220         0.000215     0.976166       2.312024e-14   \n",
       "97   9.79798       0.120154         0.000211     0.977354       1.918334e-14   \n",
       "98   9.89899       0.119108         0.000206     0.978522       1.594614e-14   \n",
       "99  10.00000       0.118079         0.000202     0.979669       1.327688e-14   \n",
       "\n",
       "    Xylose (X)  \n",
       "0     0.000000  \n",
       "1     0.986702  \n",
       "2     1.098426  \n",
       "3     1.124876  \n",
       "4     1.132396  \n",
       "..         ...  \n",
       "95    1.136000  \n",
       "96    1.136000  \n",
       "97    1.136000  \n",
       "98    1.136000  \n",
       "99    1.136000  \n",
       "\n",
       "[100 rows x 6 columns]"
      ]
     },
     "execution_count": 60,
     "metadata": {},
     "output_type": "execute_result"
    }
   ],
   "source": [
    "import pandas as pd\n",
    "\n",
    "# Gerar o dataframe com os resultados da simulação\n",
    "def generate_dataframe(solution):\n",
    "    data = {\n",
    "        \"Time\": solution.t,\n",
    "        \"Cellulose (C)\": solution.y[0],\n",
    "        \"Cellobiose (G2)\": solution.y[1],\n",
    "        \"Glucose (G)\": solution.y[2],\n",
    "        \"Hemicellulose (H)\": solution.y[3],\n",
    "        \"Xylose (X)\": solution.y[4]\n",
    "    }\n",
    "    df = pd.DataFrame(data)\n",
    "    return df\n",
    "\n",
    "# Criar o dataframe\n",
    "df_simulation = generate_dataframe(solution)\n",
    "\n",
    "# Exibir os primeiros 5 pontos\n",
    "df_simulation"
   ]
  }
 ],
 "metadata": {
  "kernelspec": {
   "display_name": "Python 3",
   "language": "python",
   "name": "python3"
  },
  "language_info": {
   "codemirror_mode": {
    "name": "ipython",
    "version": 3
   },
   "file_extension": ".py",
   "mimetype": "text/x-python",
   "name": "python",
   "nbconvert_exporter": "python",
   "pygments_lexer": "ipython3",
   "version": "3.11.9"
  }
 },
 "nbformat": 4,
 "nbformat_minor": 5
}
